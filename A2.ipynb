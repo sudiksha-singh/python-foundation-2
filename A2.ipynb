{
 "cells": [
  {
   "cell_type": "code",
   "execution_count": null,
   "id": "1c95bda8-7bad-4bde-bf0d-44736db7ad43",
   "metadata": {},
   "outputs": [],
   "source": [
    "#1\n",
    "# Storing a single quote as a string in a variable\n",
    "my_variable = \"This is a single quote: '\"\n",
    "print(my_variable)"
   ]
  },
  {
   "cell_type": "code",
   "execution_count": null,
   "id": "e3aa3f33-6102-4a17-bbed-254b8b0bef95",
   "metadata": {},
   "outputs": [],
   "source": [
    "#2 In Python, the variable x you provided, x = 'a', is a string type variable.\n",
    "\n",
    "#In Python, single quotes (') or double quotes (\") are used to define string literals.\n",
    "#When you assign a value to a variable using single quotes, Python interprets it as a string.\n",
    "#So, in the case of x = 'a', x is assigned a string literal 'a'.\n",
    "#Even though the string has only one character, it's still considered a string type in Python.\n",
    "#Therefore, x is a string type variable containing the string 'a'."
   ]
  },
  {
   "cell_type": "code",
   "execution_count": 2,
   "id": "c7b01330-221c-416c-bef2-2df66ed7465e",
   "metadata": {},
   "outputs": [
    {
     "name": "stdout",
     "output_type": "stream",
     "text": [
      "Index of 'Python': 11\n",
      "Number of 'o' in the string: 6\n",
      "Length of the string: 35\n",
      "Concatenated string: Welcome to Python foundation course - Advanced\n"
     ]
    }
   ],
   "source": [
    "#3\n",
    "x = 'Welcome to Python foundation course'\n",
    "\n",
    "# 1. find()\n",
    "print(\"Index of 'Python':\", x.find('Python'))  \n",
    "\n",
    "# 2. count()\n",
    "print(\"Number of 'o' in the string:\", x.count('o'))  \n",
    "\n",
    "# 3. len()\n",
    "print(\"Length of the string:\", len(x))\n",
    "\n",
    "# 4. Concatenation\n",
    "y = ' - Advanced'\n",
    "concatenated_string = x + y\n",
    "print(\"Concatenated string:\", concatenated_string)"
   ]
  },
  {
   "cell_type": "code",
   "execution_count": 3,
   "id": "4589549a-8fb9-4bcc-92ad-665d6b8f3bc9",
   "metadata": {},
   "outputs": [
    {
     "name": "stdout",
     "output_type": "stream",
     "text": [
      "(a) Total number of alphabets in lowercase: 4\n",
      "(b) Total number of alphabets in uppercase: 2\n",
      "(c) Total number of numericals in string: 5\n"
     ]
    }
   ],
   "source": [
    "#4\n",
    "word = 'PanaJi@12256'\n",
    "\n",
    "# Initialize counters\n",
    "lowercase_count = 0\n",
    "uppercase_count = 0\n",
    "numerical_count = 0\n",
    "\n",
    "# Iterate through each character in the string\n",
    "for char in word:\n",
    "    # Check if the character is lowercase\n",
    "    if char.islower():\n",
    "        lowercase_count += 1\n",
    "    # Check if the character is uppercase\n",
    "    elif char.isupper():\n",
    "        uppercase_count += 1\n",
    "    # Check if the character is numerical\n",
    "    elif char.isdigit():\n",
    "        numerical_count += 1\n",
    "\n",
    "# Output the results\n",
    "print(\"(a) Total number of alphabets in lowercase:\", lowercase_count)\n",
    "print(\"(b) Total number of alphabets in uppercase:\", uppercase_count)\n",
    "print(\"(c) Total number of numericals in string:\", numerical_count)"
   ]
  },
  {
   "cell_type": "code",
   "execution_count": 6,
   "id": "ca0586bf-5ebe-4a03-92a5-42c97fbd5478",
   "metadata": {},
   "outputs": [
    {
     "name": "stdout",
     "output_type": "stream",
     "text": [
      "Numerical value as string: 123\n"
     ]
    }
   ],
   "source": [
    "#5\n",
    "numerical_value = 123\n",
    "numerical_string = str(numerical_value)\n",
    "print(\"Numerical value as string:\", numerical_string)"
   ]
  },
  {
   "cell_type": "code",
   "execution_count": null,
   "id": "cf0d72e4-aeb4-40e1-9b25-8d5af41fd3dc",
   "metadata": {},
   "outputs": [],
   "source": []
  }
 ],
 "metadata": {
  "kernelspec": {
   "display_name": "Python 3 (ipykernel)",
   "language": "python",
   "name": "python3"
  },
  "language_info": {
   "codemirror_mode": {
    "name": "ipython",
    "version": 3
   },
   "file_extension": ".py",
   "mimetype": "text/x-python",
   "name": "python",
   "nbconvert_exporter": "python",
   "pygments_lexer": "ipython3",
   "version": "3.10.8"
  }
 },
 "nbformat": 4,
 "nbformat_minor": 5
}
